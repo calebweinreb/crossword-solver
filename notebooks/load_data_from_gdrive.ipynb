{
  "cells": [
    {
      "cell_type": "code",
      "execution_count": 1,
      "id": "f44f2d26",
      "metadata": {
        "id": "f44f2d26",
        "outputId": "494cb64a-d8b0-4aed-a366-8a30aff760f1",
        "colab": {
          "base_uri": "https://localhost:8080/"
        }
      },
      "outputs": [
        {
          "output_type": "stream",
          "name": "stdout",
          "text": [
            "Mounted at /content/drive\n"
          ]
        }
      ],
      "source": [
        "from google.colab import drive\n",
        "drive.mount('/content/drive')"
      ]
    },
    {
      "cell_type": "code",
      "source": [
        "! ls /content/drive/MyDrive/crossword_data/"
      ],
      "metadata": {
        "id": "H8TdSptT7ReA",
        "outputId": "95ab98d4-3df2-4331-943e-ebd4aea61e06",
        "colab": {
          "base_uri": "https://localhost:8080/"
        }
      },
      "id": "H8TdSptT7ReA",
      "execution_count": 2,
      "outputs": [
        {
          "output_type": "stream",
          "name": "stdout",
          "text": [
            "README.txt  train.csv  train.source  train.target\n"
          ]
        }
      ]
    },
    {
      "cell_type": "code",
      "source": [
        "import csv\n",
        "\n",
        "with open('/content/drive/MyDrive/crossword_data/train.csv','r') as csvfile:\n",
        "  reader = csv.DictReader(csvfile)\n",
        "  for item in reader:\n",
        "\n",
        "    print(item)\n",
        "\n",
        "    if int(item['id']) >= 5: \n",
        "      break\n",
        "    "
      ],
      "metadata": {
        "id": "J2pvkRIs708m",
        "outputId": "d5fdb652-42fd-4e8f-c7b2-1e014c92c98d",
        "colab": {
          "base_uri": "https://localhost:8080/"
        }
      },
      "id": "J2pvkRIs708m",
      "execution_count": 6,
      "outputs": [
        {
          "output_type": "stream",
          "name": "stdout",
          "text": [
            "{'id': '0', 'clue': \"Carol's about to tolerate bad language\", 'answer': 'swearing'}\n",
            "{'id': '1', 'clue': 'Explorer or actor Sebastian', 'answer': 'cabot'}\n",
            "{'id': '2', 'clue': 'TV talk pioneer', 'answer': 'paar'}\n",
            "{'id': '3', 'clue': 'Utter failure, figuratively', 'answer': 'lead balloon'}\n",
            "{'id': '4', 'clue': 'Ages and ages', 'answer': 'e on'}\n",
            "{'id': '5', 'clue': 'Denmark, a hyperactive place with a platform for free speech', 'answer': 'Hyde Park'}\n",
            "{'id': '6', 'clue': 'Clean-up target', 'answer': 'mess'}\n"
          ]
        }
      ]
    },
    {
      "cell_type": "code",
      "source": [],
      "metadata": {
        "id": "lR-4JTgG8qA5"
      },
      "id": "lR-4JTgG8qA5",
      "execution_count": null,
      "outputs": []
    }
  ],
  "metadata": {
    "kernelspec": {
      "display_name": "keypoint_moseq",
      "language": "python",
      "name": "keypoint_moseq"
    },
    "language_info": {
      "codemirror_mode": {
        "name": "ipython",
        "version": 3
      },
      "file_extension": ".py",
      "mimetype": "text/x-python",
      "name": "python",
      "nbconvert_exporter": "python",
      "pygments_lexer": "ipython3",
      "version": "3.9.16"
    },
    "colab": {
      "provenance": [],
      "gpuType": "T4"
    },
    "accelerator": "GPU",
    "gpuClass": "standard"
  },
  "nbformat": 4,
  "nbformat_minor": 5
}